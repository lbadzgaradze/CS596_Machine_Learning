{
 "cells": [
  {
   "cell_type": "code",
   "execution_count": 0,
   "metadata": {
    "colab": {},
    "colab_type": "code",
    "id": "wsZTSPOu4qcU"
   },
   "outputs": [],
   "source": [
    "import torch\n",
    "from torchtext import data\n",
    "from torchtext import datasets\n",
    "import torch.optim as optim\n",
    "import time\n",
    "import spacy\n",
    "import torch.nn as nn\n",
    "\n",
    "\n",
    "torch.backends.cudnn.deterministic = True\n",
    "\n",
    "TEXT = data.Field(tokenize = 'spacy', include_lengths = True)\n",
    "LABEL = data.LabelField(dtype = torch.float)"
   ]
  },
  {
   "cell_type": "code",
   "execution_count": 8,
   "metadata": {
    "colab": {
     "base_uri": "https://localhost:8080/",
     "height": 51
    },
    "colab_type": "code",
    "executionInfo": {
     "elapsed": 118656,
     "status": "ok",
     "timestamp": 1576654462045,
     "user": {
      "displayName": "Nika Nizharadze",
      "photoUrl": "",
      "userId": "17062743020097136354"
     },
     "user_tz": 480
    },
    "id": "4iKoAY-n4qcZ",
    "outputId": "edb2dbd1-ff24-40f2-c966-8bc90ce582a4"
   },
   "outputs": [
    {
     "name": "stdout",
     "output_type": "stream",
     "text": [
      "downloading aclImdb_v1.tar.gz\n"
     ]
    },
    {
     "name": "stderr",
     "output_type": "stream",
     "text": [
      "aclImdb_v1.tar.gz: 100%|██████████| 84.1M/84.1M [00:09<00:00, 9.13MB/s]\n"
     ]
    }
   ],
   "source": [
    "train, test = datasets.IMDB.splits(TEXT, LABEL)\n"
   ]
  },
  {
   "cell_type": "code",
   "execution_count": 0,
   "metadata": {
    "colab": {},
    "colab_type": "code",
    "id": "wXrXY9_t4qcb"
   },
   "outputs": [],
   "source": [
    "train, valid = train.split()\n"
   ]
  },
  {
   "cell_type": "code",
   "execution_count": 11,
   "metadata": {
    "colab": {
     "base_uri": "https://localhost:8080/",
     "height": 51
    },
    "colab_type": "code",
    "executionInfo": {
     "elapsed": 429603,
     "status": "ok",
     "timestamp": 1576654935951,
     "user": {
      "displayName": "Nika Nizharadze",
      "photoUrl": "",
      "userId": "17062743020097136354"
     },
     "user_tz": 480
    },
    "id": "vPZYQRgW4qcd",
    "outputId": "f6e6dd0e-efe7-41f3-d3bf-7e20ef5cfb46"
   },
   "outputs": [
    {
     "name": "stderr",
     "output_type": "stream",
     "text": [
      ".vector_cache/glove.6B.zip: 862MB [06:31, 2.20MB/s]                          \n",
      " 99%|█████████▉| 397762/400000 [00:15<00:00, 24482.21it/s]"
     ]
    }
   ],
   "source": [
    "MAX_VOCAB_SIZE = 25_000\n",
    "\n",
    "TEXT.build_vocab(train, \n",
    "                 max_size = MAX_VOCAB_SIZE, \n",
    "                 vectors = \"glove.6B.100d\", \n",
    "                 unk_init = torch.Tensor.normal_)\n",
    "\n",
    "LABEL.build_vocab(train)"
   ]
  },
  {
   "cell_type": "code",
   "execution_count": 0,
   "metadata": {
    "colab": {},
    "colab_type": "code",
    "id": "hO1SklYP4qch"
   },
   "outputs": [],
   "source": [
    "class RNN(nn.Module):\n",
    "    def __init__(self, vocab_size, emb_dim, h_dim, out_dim, layers, \n",
    "                 bidirectional, dropout, pad_idx):\n",
    "        \n",
    "        super().__init__()\n",
    "        \n",
    "        self.embedding = nn.Embedding(vocab_size, emb_dim, padding_idx = pad_idx)\n",
    "        \n",
    "        self.rnn = nn.LSTM(emb_dim, \n",
    "                           h_dim, \n",
    "                           num_layers=layers, \n",
    "                           bidirectional=bidirectional, \n",
    "                           dropout=dropout)\n",
    "        \n",
    "        self.fc = nn.Linear(h_dim * 2, out_dim)\n",
    "        \n",
    "        self.dropout = nn.Dropout(dropout)\n",
    "        \n",
    "    def forward(self, text, length):\n",
    "        \n",
    "        \n",
    "        embed = self.dropout(self.embedding(text))\n",
    "        \n",
    "        p_embed = nn.utils.rnn.pack_padded_sequence(embed, length)\n",
    "        \n",
    "        p_output, (hidden, cell) = self.rnn(p_embed)\n",
    "        \n",
    "        output, output_lengths = nn.utils.rnn.pad_packed_sequence(p_output)\n",
    "\n",
    "        # apply dropout\n",
    "        \n",
    "        hidden = self.dropout(torch.cat((hidden[-2,:,:], hidden[-1,:,:]), dim = 1))\n",
    "            \n",
    "        return self.fc(hidden)"
   ]
  },
  {
   "cell_type": "code",
   "execution_count": 0,
   "metadata": {
    "colab": {},
    "colab_type": "code",
    "id": "t5_L-CHE4qcj"
   },
   "outputs": [],
   "source": [
    "in_dim = len(TEXT.vocab)\n",
    "emb_dim = 100\n",
    "h_dim = 256\n",
    "out_dim = 1\n",
    "layers = 2\n",
    "BIDIRECTIONAL = True\n",
    "DROPOUT = 0.5\n",
    "PAD_IDX = TEXT.vocab.stoi[TEXT.pad_token]\n",
    "\n",
    "model = RNN(in_dim, emb_dim, h_dim, out_dim, layers, BIDIRECTIONAL, DROPOUT, PAD_IDX)"
   ]
  },
  {
   "cell_type": "code",
   "execution_count": 18,
   "metadata": {
    "colab": {
     "base_uri": "https://localhost:8080/",
     "height": 34
    },
    "colab_type": "code",
    "executionInfo": {
     "elapsed": 960,
     "status": "ok",
     "timestamp": 1576655122106,
     "user": {
      "displayName": "Nika Nizharadze",
      "photoUrl": "",
      "userId": "17062743020097136354"
     },
     "user_tz": 480
    },
    "id": "AWhCWOKz4qcl",
    "outputId": "d9d9d375-f469-43c8-8747-fddcda21268d"
   },
   "outputs": [
    {
     "name": "stdout",
     "output_type": "stream",
     "text": [
      "The model has 4810857 trainable parameters\n"
     ]
    }
   ],
   "source": [
    "def count_parameters(model):\n",
    "    return sum(p.numel() for p in model.parameters() if p.requires_grad)\n",
    "\n",
    "print('The model has {} trainable parameters'.format(count_parameters(model)))"
   ]
  },
  {
   "cell_type": "code",
   "execution_count": 19,
   "metadata": {
    "colab": {
     "base_uri": "https://localhost:8080/",
     "height": 34
    },
    "colab_type": "code",
    "executionInfo": {
     "elapsed": 1751,
     "status": "ok",
     "timestamp": 1576655125755,
     "user": {
      "displayName": "Nika Nizharadze",
      "photoUrl": "",
      "userId": "17062743020097136354"
     },
     "user_tz": 480
    },
    "id": "CiraPNNu4qco",
    "outputId": "f734066a-916e-4394-878a-127be732b928"
   },
   "outputs": [
    {
     "name": "stdout",
     "output_type": "stream",
     "text": [
      "torch.Size([25002, 100])\n"
     ]
    }
   ],
   "source": [
    "pretrained_embeddings = TEXT.vocab.vectors\n",
    "\n",
    "print(pretrained_embeddings.shape)"
   ]
  },
  {
   "cell_type": "code",
   "execution_count": 20,
   "metadata": {
    "colab": {
     "base_uri": "https://localhost:8080/",
     "height": 136
    },
    "colab_type": "code",
    "executionInfo": {
     "elapsed": 1071,
     "status": "ok",
     "timestamp": 1576655127553,
     "user": {
      "displayName": "Nika Nizharadze",
      "photoUrl": "",
      "userId": "17062743020097136354"
     },
     "user_tz": 480
    },
    "id": "KWZ2cy3U4qcq",
    "outputId": "23d6adbe-5634-463e-f52f-34722623f755"
   },
   "outputs": [
    {
     "data": {
      "text/plain": [
       "tensor([[-1.3183,  0.5577,  0.2282,  ..., -2.1676, -0.7688, -0.8385],\n",
       "        [ 1.1523, -0.9973, -0.4263,  ...,  0.2774, -0.5144, -0.0841],\n",
       "        [-0.0382, -0.2449,  0.7281,  ..., -0.1459,  0.8278,  0.2706],\n",
       "        ...,\n",
       "        [-1.4093, -1.8312,  0.0044,  ...,  2.1618, -0.5821,  0.5371],\n",
       "        [ 0.4222, -1.0156,  0.7841,  ..., -0.2915,  0.8334, -0.4019],\n",
       "        [ 0.7090,  1.5195,  0.3851,  ...,  0.1215,  0.4930, -0.5784]])"
      ]
     },
     "execution_count": 20,
     "metadata": {
      "tags": []
     },
     "output_type": "execute_result"
    }
   ],
   "source": [
    "model.embedding.weight.data.copy_(pretrained_embeddings)\n"
   ]
  },
  {
   "cell_type": "code",
   "execution_count": 21,
   "metadata": {
    "colab": {
     "base_uri": "https://localhost:8080/",
     "height": 136
    },
    "colab_type": "code",
    "executionInfo": {
     "elapsed": 1680,
     "status": "ok",
     "timestamp": 1576655130019,
     "user": {
      "displayName": "Nika Nizharadze",
      "photoUrl": "",
      "userId": "17062743020097136354"
     },
     "user_tz": 480
    },
    "id": "NHJDTt3L4qcs",
    "outputId": "bc70d782-1632-49b1-b82c-4d2697f2b728"
   },
   "outputs": [
    {
     "name": "stdout",
     "output_type": "stream",
     "text": [
      "tensor([[ 0.0000,  0.0000,  0.0000,  ...,  0.0000,  0.0000,  0.0000],\n",
      "        [ 0.0000,  0.0000,  0.0000,  ...,  0.0000,  0.0000,  0.0000],\n",
      "        [-0.0382, -0.2449,  0.7281,  ..., -0.1459,  0.8278,  0.2706],\n",
      "        ...,\n",
      "        [-1.4093, -1.8312,  0.0044,  ...,  2.1618, -0.5821,  0.5371],\n",
      "        [ 0.4222, -1.0156,  0.7841,  ..., -0.2915,  0.8334, -0.4019],\n",
      "        [ 0.7090,  1.5195,  0.3851,  ...,  0.1215,  0.4930, -0.5784]])\n"
     ]
    }
   ],
   "source": [
    "\n",
    "model.embedding.weight.data[TEXT.vocab.stoi[TEXT.unk_token]] = torch.zeros(emb_dim)\n",
    "model.embedding.weight.data[PAD_IDX] = torch.zeros(emb_dim)\n",
    "\n",
    "print(model.embedding.weight.data)"
   ]
  },
  {
   "cell_type": "code",
   "execution_count": 0,
   "metadata": {
    "colab": {},
    "colab_type": "code",
    "id": "LZgUsNX14qcu"
   },
   "outputs": [],
   "source": [
    "optimizer = optim.Adam(model.parameters())"
   ]
  },
  {
   "cell_type": "code",
   "execution_count": 36,
   "metadata": {
    "colab": {
     "base_uri": "https://localhost:8080/",
     "height": 34
    },
    "colab_type": "code",
    "executionInfo": {
     "elapsed": 1470,
     "status": "ok",
     "timestamp": 1576655653042,
     "user": {
      "displayName": "Nika Nizharadze",
      "photoUrl": "",
      "userId": "17062743020097136354"
     },
     "user_tz": 480
    },
    "id": "3PZQnrqe4qcw",
    "outputId": "34067d75-5bb3-4e07-b8a9-2e9069a12a70"
   },
   "outputs": [
    {
     "name": "stdout",
     "output_type": "stream",
     "text": [
      "cuda\n"
     ]
    }
   ],
   "source": [
    "criterion = nn.BCEWithLogitsLoss()\n",
    "\n",
    "device = torch.device('cuda' if torch.cuda.is_available() else 'cpu')\n",
    "train_iterator, valid_iterator, test_iterator = data.BucketIterator.splits(\n",
    "    (train, valid, test), \n",
    "    batch_size = 64,\n",
    "    sort_within_batch = True,\n",
    "    device = device)\n",
    "model = model.to(device)\n",
    "criterion = criterion.to(device)\n",
    "print(device)"
   ]
  },
  {
   "cell_type": "code",
   "execution_count": 0,
   "metadata": {
    "colab": {},
    "colab_type": "code",
    "id": "6CUsNJtF4qcy"
   },
   "outputs": [],
   "source": [
    "def binary_accuracy(predictions, y):\n",
    "    rounded = torch.round(torch.sigmoid(predictions))\n",
    "    correct = (rounded == y).float() \n",
    "    acc = correct.sum() / len(correct)\n",
    "    return acc"
   ]
  },
  {
   "cell_type": "code",
   "execution_count": 0,
   "metadata": {
    "colab": {},
    "colab_type": "code",
    "id": "aA9PZrmZ4qc0"
   },
   "outputs": [],
   "source": [
    "def Train(model, iterator, optimizer, criterion):\n",
    "    \n",
    "    epoch_loss = 0\n",
    "    epoch_acc = 0\n",
    "    \n",
    "    model.train()\n",
    "    \n",
    "    for batch in iterator:\n",
    "        \n",
    "        optimizer.zero_grad()\n",
    "        \n",
    "        text, text_lengths = batch.text\n",
    "        \n",
    "        predictions = model(text, text_lengths).squeeze(1)\n",
    "        \n",
    "        loss = criterion(predictions, batch.label)\n",
    "        \n",
    "        acc = binary_accuracy(predictions, batch.label)\n",
    "        \n",
    "        loss.backward()\n",
    "        \n",
    "        optimizer.step()\n",
    "        \n",
    "        epoch_loss += loss.item()\n",
    "        epoch_acc += acc.item()\n",
    "        \n",
    "    return epoch_loss / len(iterator), epoch_acc / len(iterator)"
   ]
  },
  {
   "cell_type": "code",
   "execution_count": 0,
   "metadata": {
    "colab": {},
    "colab_type": "code",
    "id": "S0CDdbEZ4qc1"
   },
   "outputs": [],
   "source": [
    "def evaluate(model, iterator, criterion):\n",
    "    \n",
    "    epoch_loss = 0\n",
    "    epoch_acc = 0\n",
    "    \n",
    "    model.eval()\n",
    "    \n",
    "    with torch.no_grad():\n",
    "    \n",
    "        for batch in iterator:\n",
    "\n",
    "            text, text_lengths = batch.text\n",
    "            \n",
    "            predictions = model(text, text_lengths).squeeze(1)\n",
    "            \n",
    "            loss = criterion(predictions, batch.label)\n",
    "            \n",
    "            acc = binary_accuracy(predictions, batch.label)\n",
    "\n",
    "            epoch_loss += loss.item()\n",
    "            epoch_acc += acc.item()\n",
    "        \n",
    "    return epoch_loss / len(iterator), epoch_acc / len(iterator)"
   ]
  },
  {
   "cell_type": "code",
   "execution_count": 0,
   "metadata": {
    "colab": {},
    "colab_type": "code",
    "id": "xsrBNrFg4qc3"
   },
   "outputs": [],
   "source": [
    "def epoch_time(start_time, end_time):\n",
    "    elapsed_time = end_time - start_time\n",
    "    elapsed_mins = int(elapsed_time / 60)\n",
    "    elapsed_secs = int(elapsed_time - (elapsed_mins * 60))\n",
    "    return elapsed_mins, elapsed_secs"
   ]
  },
  {
   "cell_type": "code",
   "execution_count": 41,
   "metadata": {
    "colab": {
     "base_uri": "https://localhost:8080/",
     "height": 272
    },
    "colab_type": "code",
    "executionInfo": {
     "elapsed": 204145,
     "status": "ok",
     "timestamp": 1576655882886,
     "user": {
      "displayName": "Nika Nizharadze",
      "photoUrl": "",
      "userId": "17062743020097136354"
     },
     "user_tz": 480
    },
    "id": "Q0F8VIjA4qc5",
    "outputId": "86f7f100-94ee-4ee9-bd74-860c4daa88e9"
   },
   "outputs": [
    {
     "name": "stdout",
     "output_type": "stream",
     "text": [
      "Epoch: 01 | Epoch Time: 0m 40s\n",
      "\tTrain Loss: 0.673 | Train Acc: 58.38%\n",
      "\t Val. Loss: 0.666 |  Val. Acc: 60.75%\n",
      "Epoch: 02 | Epoch Time: 0m 40s\n",
      "\tTrain Loss: 0.686 | Train Acc: 54.48%\n",
      "\t Val. Loss: 0.680 |  Val. Acc: 58.96%\n",
      "Epoch: 03 | Epoch Time: 0m 40s\n",
      "\tTrain Loss: 0.649 | Train Acc: 61.60%\n",
      "\t Val. Loss: 0.620 |  Val. Acc: 66.79%\n",
      "Epoch: 04 | Epoch Time: 0m 40s\n",
      "\tTrain Loss: 0.532 | Train Acc: 73.58%\n",
      "\t Val. Loss: 0.437 |  Val. Acc: 80.25%\n",
      "Epoch: 05 | Epoch Time: 0m 40s\n",
      "\tTrain Loss: 0.478 | Train Acc: 77.43%\n",
      "\t Val. Loss: 0.468 |  Val. Acc: 78.90%\n"
     ]
    }
   ],
   "source": [
    "current_loss = float('inf')\n",
    "\n",
    "for epoch in range(5):\n",
    "\n",
    "    start_t = time.time()\n",
    "    \n",
    "    train_loss, train_acc = Train(model, train_iterator, optimizer, criterion)\n",
    "    valid_loss, valid_acc = evaluate(model, valid_iterator, criterion)\n",
    "    \n",
    "    end_t = time.time()\n",
    "\n",
    "    epoch_mins, epoch_secs = epoch_time(start_t, end_t)\n",
    "    \n",
    "    if valid_loss < current_loss:\n",
    "        best_valid_loss = valid_loss\n",
    "        torch.save(model.state_dict(), 'SecondModel.pt')\n",
    "    \n",
    "    print(f'Epoch: {epoch+1:02} | Epoch Time: {epoch_mins}m {epoch_secs}s')\n",
    "    print(f'\\tTrain Loss: {train_loss:.3f} | Train Acc: {train_acc*100:.2f}%')\n",
    "    print(f'\\t Val. Loss: {valid_loss:.3f} |  Val. Acc: {valid_acc*100:.2f}%')"
   ]
  },
  {
   "cell_type": "code",
   "execution_count": 42,
   "metadata": {
    "colab": {
     "base_uri": "https://localhost:8080/",
     "height": 34
    },
    "colab_type": "code",
    "executionInfo": {
     "elapsed": 220838,
     "status": "ok",
     "timestamp": 1576655900817,
     "user": {
      "displayName": "Nika Nizharadze",
      "photoUrl": "",
      "userId": "17062743020097136354"
     },
     "user_tz": 480
    },
    "id": "wQj3qW8T4qc7",
    "outputId": "69ec75ce-5178-4130-e5e0-4317af58574d"
   },
   "outputs": [
    {
     "name": "stdout",
     "output_type": "stream",
     "text": [
      "Test Loss: 0.470 | Test Acc: 78.79%\n"
     ]
    }
   ],
   "source": [
    "model.load_state_dict(torch.load('SecondModel.pt'))\n",
    "\n",
    "test_loss, test_acc = evaluate(model, test_iterator, criterion)\n",
    "\n",
    "print(f'Test Loss: {test_loss:.3f} | Test Acc: {test_acc*100:.2f}%')"
   ]
  },
  {
   "cell_type": "code",
   "execution_count": 0,
   "metadata": {
    "colab": {},
    "colab_type": "code",
    "id": "30BROH8EAHGP"
   },
   "outputs": [],
   "source": []
  }
 ],
 "metadata": {
  "accelerator": "GPU",
  "colab": {
   "name": "2.ipynb",
   "provenance": []
  },
  "kernelspec": {
   "display_name": "Python 3",
   "language": "python",
   "name": "python3"
  },
  "language_info": {
   "codemirror_mode": {
    "name": "ipython",
    "version": 3
   },
   "file_extension": ".py",
   "mimetype": "text/x-python",
   "name": "python",
   "nbconvert_exporter": "python",
   "pygments_lexer": "ipython3",
   "version": "3.7.4"
  }
 },
 "nbformat": 4,
 "nbformat_minor": 1
}
